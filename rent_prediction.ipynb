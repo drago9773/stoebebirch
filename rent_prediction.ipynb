{
 "cells": [
  {
   "cell_type": "code",
   "execution_count": 89,
   "metadata": {},
   "outputs": [],
   "source": [
    "import numpy as np\n",
    "import pandas as pd\n",
    "import glob\n",
    "import os\n",
    "from sklearn.neighbors import KNeighborsRegressor\n",
    "from sklearn.linear_model import LinearRegression\n",
    "from sklearn.model_selection import train_test_split\n",
    "from sklearn.metrics import r2_score, mean_absolute_error\n",
    "import seaborn as sns\n",
    "import matplotlib.pyplot as plt\n",
    "from sklearn.preprocessing import OneHotEncoder, PolynomialFeatures, MinMaxScaler\n",
    "import joblib\n"
   ]
  },
  {
   "cell_type": "code",
   "execution_count": 102,
   "metadata": {},
   "outputs": [],
   "source": [
    "states_trained = pd.read_csv(r\"C:\\Users\\mattl\\OneDrive\\Documents\\reibrowser\\Database\\Redfin Data\\rentals.csv\")\n",
    "states = states_trained[\"State_Code\"].unique()\n",
    "\n",
    "# Load the new data\n",
    "df = pd.read_csv(r\"C:\\Users\\mattl\\OneDrive\\Documents\\reibrowser\\Database\\Redfin Data\\for_sale_homes.csv\", index_col=False)\n",
    "\n",
    "# Apply initial filtering on the DataFrame\n",
    "df = df[(df[\"Bedrooms\"] > 0) \n",
    "        & (df[\"Bedrooms\"] < 6)  \n",
    "        & (df[\"Bathrooms\"] < 4)  \n",
    "        & (df[\"Square Feet\"] < 5000)    \n",
    "        & (df[\"State\"].notna())]\n",
    "\n",
    "basic_features = [\"Square Feet\", \"Bedrooms\", \"Bathrooms\"]\n"
   ]
  },
  {
   "cell_type": "code",
   "execution_count": 100,
   "metadata": {},
   "outputs": [
    {
     "name": "stdout",
     "output_type": "stream",
     "text": [
      "19424\n",
      "0\n"
     ]
    },
    {
     "data": {
      "text/plain": [
       "Series([], Name: median_income, dtype: float64)"
      ]
     },
     "metadata": {},
     "output_type": "display_data"
    }
   ],
   "source": [
    "#Get Median Income Data\n",
    "median_income = pd.read_csv(r\"C:\\Users\\mattl\\OneDrive\\Documents\\reibrowser\\Database\\Rent Training Data\\ACSDT5Y2022.B19013-Data.csv\", skiprows=[1], na_values='-')\n",
    "\n",
    "median_income['GEO_ID'] = median_income['GEO_ID'].astype(str)\n",
    "\n",
    "# Extracting everything after \"US\" and storing it in a new column 'cbg_geoid'\n",
    "median_income['cbg_geoid'] = median_income['GEO_ID'].str.extract('US(\\d+)')\n",
    "median_income['median_income'] = median_income['B19013_001E'].str.replace(',','+').str.replace('+','').str.replace('-','').astype(float)\n",
    "\n",
    "median_income = median_income[[\"cbg_geoid\", \"median_income\" ]]\n",
    "\n",
    "print(df[\"MLS ID\"].count())\n",
    "\n",
    "df[\"cbg_geoid\"] = df[\"cbg_geoid\"].astype(str).str.split('.').str[0]\n",
    "median_income[\"cbg_geoid\"] = median_income[\"cbg_geoid\"].astype(str)\n",
    "\n",
    "df = df.merge(median_income, on='cbg_geoid', how=\"inner\")\n",
    "\n",
    "print(df[\"MLS ID\"].count())\n",
    "\n",
    "display(df[\"median_income\"])"
   ]
  },
  {
   "cell_type": "code",
   "execution_count": 91,
   "metadata": {},
   "outputs": [
    {
     "name": "stdout",
     "output_type": "stream",
     "text": [
      "Number of rows filtered out: 1\n"
     ]
    },
    {
     "name": "stderr",
     "output_type": "stream",
     "text": [
      "C:\\Users\\mattl\\AppData\\Local\\Temp\\ipykernel_24348\\2476887341.py:23: SettingWithCopyWarning: \n",
      "A value is trying to be set on a copy of a slice from a DataFrame.\n",
      "Try using .loc[row_indexer,col_indexer] = value instead\n",
      "\n",
      "See the caveats in the documentation: https://pandas.pydata.org/pandas-docs/stable/user_guide/indexing.html#returning-a-view-versus-a-copy\n",
      "  filtered_df[column_name] = knn.predict(new_data_rad)\n",
      "C:\\Users\\mattl\\AppData\\Local\\Temp\\ipykernel_24348\\2476887341.py:23: SettingWithCopyWarning: \n",
      "A value is trying to be set on a copy of a slice from a DataFrame.\n",
      "Try using .loc[row_indexer,col_indexer] = value instead\n",
      "\n",
      "See the caveats in the documentation: https://pandas.pydata.org/pandas-docs/stable/user_guide/indexing.html#returning-a-view-versus-a-copy\n",
      "  filtered_df[column_name] = knn.predict(new_data_rad)\n",
      "C:\\Users\\mattl\\AppData\\Local\\Temp\\ipykernel_24348\\2476887341.py:23: SettingWithCopyWarning: \n",
      "A value is trying to be set on a copy of a slice from a DataFrame.\n",
      "Try using .loc[row_indexer,col_indexer] = value instead\n",
      "\n",
      "See the caveats in the documentation: https://pandas.pydata.org/pandas-docs/stable/user_guide/indexing.html#returning-a-view-versus-a-copy\n",
      "  filtered_df[column_name] = knn.predict(new_data_rad)\n"
     ]
    }
   ],
   "source": [
    "\n",
    "# Filter out rows where the state is not in the trained states\n",
    "filtered_df = df[df[\"State_Code\"].isin(states)]\n",
    "filtered_out_count = len(df) - len(filtered_df)\n",
    "\n",
    "# Show the count of predictions filtered out\n",
    "print(f\"Number of rows filtered out: {filtered_out_count}\")\n",
    "\n",
    "# Proceed with the prediction for the remaining rows\n",
    "knn_features = [\"Latitude\", \"Longitude\"]\n",
    "n_values = [1, 5, 10]\n",
    "\n",
    "# Convert latitude and longitude from degrees to radians for haversine metric\n",
    "new_data_rad = np.radians(filtered_df[knn_features].values)\n",
    "\n",
    "# Loop over different values of n and use the saved models to predict rent benchmarks\n",
    "for n in n_values:\n",
    "    column_name = f'Rent_Benchmark_{n}_neighbors'\n",
    "    \n",
    "    # Load the trained model\n",
    "    knn = joblib.load(fr'Models\\knn_model_{n}_neighbors.pkl')\n",
    "    \n",
    "    # Predict the average rent for each point in the new data\n",
    "    filtered_df[column_name] = knn.predict(new_data_rad)\n",
    "\n",
    "# Display the new data with the predicted rent benchmarks\n",
    "\n",
    "df = filtered_df\n",
    "\n",
    "benchmark_features = [f'Rent_Benchmark_{n}_neighbors' for n in n_values]\n"
   ]
  },
  {
   "cell_type": "code",
   "execution_count": 76,
   "metadata": {},
   "outputs": [],
   "source": [
    "columns_to_encode = ['Bedrooms', 'Bathrooms']\n",
    "\n",
    "# Initialize OneHotEncoder\n",
    "encoder = OneHotEncoder(sparse_output=False, drop='first')  # drop='first' to avoid dummy variable trap\n",
    "\n",
    "# Fit and transform the data\n",
    "encoded_features = encoder.fit_transform(df[columns_to_encode])\n",
    "\n",
    "# Get feature names for the encoded columns\n",
    "encoded_feature_names = encoder.get_feature_names_out(columns_to_encode)\n",
    "\n",
    "# Create a DataFrame with the encoded features\n",
    "encoded_df = pd.DataFrame(encoded_features, columns = encoded_feature_names)\n",
    "\n",
    "# Concatenate the original DataFrame (excluding the original columns) with the encoded DataFrame\n",
    "df = pd.concat([df, encoded_df], axis=1)\n",
    "\n",
    "one_hot_features = encoded_feature_names.tolist()"
   ]
  },
  {
   "cell_type": "code",
   "execution_count": null,
   "metadata": {},
   "outputs": [],
   "source": [
    "Selected_features = ['Bathrooms_2.0', 'Square Feet', 'Rent_Benchmark_1_neighbors', 'Rent_Benchmark_5_neighbors', 'Rent_Benchmark_10_neighbors', 'median_income^2', 'median_income Bedrooms_2', 'median_income Bathrooms_1.5', 'median_income Square Feet', 'median_income Bedrooms', 'median_income Rent_Benchmark_1_neighbors', 'median_income Rent_Benchmark_5_neighbors', 'median_income Rent_Benchmark_10_neighbors', 'Bedrooms_2 Bathrooms_2.0', 'Bedrooms_2 Square Feet', 'Bedrooms_2 Rent_Benchmark_1_neighbors', 'Bedrooms_2 Rent_Benchmark_5_neighbors', 'Bedrooms_3 Bathrooms_2.0', 'Bedrooms_3 Square Feet', 'Bedrooms_3 Rent_Benchmark_1_neighbors', 'Bedrooms_3 Rent_Benchmark_10_neighbors', 'Bedrooms_4 Bathrooms_2.0', 'Bedrooms_4 Square Feet', 'Bedrooms_4 Rent_Benchmark_1_neighbors', 'Bedrooms_4 Rent_Benchmark_10_neighbors', 'Bedrooms_5 Bathrooms_2.0', 'Bedrooms_5 Square Feet', 'Bedrooms_5 Rent_Benchmark_1_neighbors', 'Bedrooms_5 Rent_Benchmark_5_neighbors', 'Bedrooms_5 Rent_Benchmark_10_neighbors', 'Bathrooms_1.5 Bedrooms', 'Bathrooms_1.5 Rent_Benchmark_1_neighbors', 'Bathrooms_1.5 Rent_Benchmark_10_neighbors', 'Bathrooms_2.0^2', 'Bathrooms_2.0 Square Feet', 'Bathrooms_2.0 Bedrooms', 'Bathrooms_2.0 Bathrooms', 'Bathrooms_2.0 Rent_Benchmark_1_neighbors', 'Bathrooms_2.0 Rent_Benchmark_5_neighbors', 'Bathrooms_2.0 Rent_Benchmark_10_neighbors', 'Bathrooms_2.5 Square Feet', 'Bathrooms_2.5 Rent_Benchmark_1_neighbors', 'Bathrooms_2.5 Rent_Benchmark_5_neighbors', 'Bathrooms_2.5 Rent_Benchmark_10_neighbors', 'Bathrooms_3.0 Rent_Benchmark_1_neighbors', 'Bathrooms_3.0 Rent_Benchmark_5_neighbors', 'Bathrooms_3.0 Rent_Benchmark_10_neighbors', 'Square Feet^2', 'Square Feet Bedrooms', 'Square Feet Bathrooms', 'Square Feet Rent_Benchmark_1_neighbors', 'Square Feet Rent_Benchmark_5_neighbors', 'Square Feet Rent_Benchmark_10_neighbors', 'Bedrooms Bathrooms', 'Bedrooms Rent_Benchmark_1_neighbors', 'Bedrooms Rent_Benchmark_5_neighbors', 'Bedrooms Rent_Benchmark_10_neighbors', 'Bathrooms Rent_Benchmark_1_neighbors', 'Rent_Benchmark_1_neighbors^2', 'Rent_Benchmark_1_neighbors Rent_Benchmark_5_neighbors', 'Rent_Benchmark_1_neighbors Rent_Benchmark_10_neighbors', 'Rent_Benchmark_5_neighbors^2', 'Rent_Benchmark_5_neighbors Rent_Benchmark_10_neighbors', 'Rent_Benchmark_10_neighbors^2']\n"
   ]
  }
 ],
 "metadata": {
  "kernelspec": {
   "display_name": "base",
   "language": "python",
   "name": "python3"
  },
  "language_info": {
   "codemirror_mode": {
    "name": "ipython",
    "version": 3
   },
   "file_extension": ".py",
   "mimetype": "text/x-python",
   "name": "python",
   "nbconvert_exporter": "python",
   "pygments_lexer": "ipython3",
   "version": "3.11.5"
  }
 },
 "nbformat": 4,
 "nbformat_minor": 2
}
