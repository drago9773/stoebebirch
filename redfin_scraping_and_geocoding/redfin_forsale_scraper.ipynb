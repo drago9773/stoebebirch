{
 "cells": [
  {
   "cell_type": "code",
   "execution_count": 1,
   "metadata": {},
   "outputs": [],
   "source": [
    "import os\n",
    "import pandas as pd\n",
    "from supabase import create_client, Client\n",
    "from dotenv import load_dotenv\n",
    "import numpy as np\n",
    "from redfin_scraping_utils import RentScraper, BuyScraper\n",
    "from geocoding_utils import Geocoder \n",
    "import geopandas as  gpd"
   ]
  },
  {
   "cell_type": "code",
   "execution_count": 2,
   "metadata": {},
   "outputs": [],
   "source": [
    "#parameters\n",
    "states = ['WA', 'ID', 'OR', 'MI', 'IL', 'IA', 'WI', 'MN', 'IN']"
   ]
  },
  {
   "cell_type": "code",
   "execution_count": 3,
   "metadata": {},
   "outputs": [],
   "source": [
    "load_dotenv()\n",
    "\n",
    "# Create Supabase Client\n",
    "url: str = os.getenv(\"SUPABASE_URL\")\n",
    "key: str = os.getenv(\"SUPABASE_KEY\")\n",
    "supabase: Client = create_client(url, key)\n",
    "\n",
    "#Initialize Scraper\n",
    "buy_scraper = BuyScraper()\n"
   ]
  },
  {
   "cell_type": "code",
   "execution_count": 4,
   "metadata": {},
   "outputs": [
    {
     "name": "stdout",
     "output_type": "stream",
     "text": [
      "Scraping 733 Zip Codes in WA\n",
      "Processing 24% done (183/733 zip codes)\n",
      "Processing 49% done (366/733 zip codes)\n",
      "Processing 74% done (549/733 zip codes)\n",
      "Scraped 37148 for-sale listings for state WA\n",
      "Writing...\n",
      "Write Complete\n",
      "Scraping 325 Zip Codes in ID\n",
      "Processing 24% done (81/325 zip codes)\n",
      "Processing 49% done (162/325 zip codes)\n",
      "Processing 74% done (243/325 zip codes)\n",
      "Scraped 16945 for-sale listings for state ID\n",
      "Writing...\n",
      "Write Complete\n",
      "Scraping 492 Zip Codes in OR\n",
      "Processing 25% done (123/492 zip codes)\n",
      "Processing 50% done (246/492 zip codes)\n",
      "Processing 75% done (369/492 zip codes)\n",
      "Scraped 27530 for-sale listings for state OR\n",
      "Writing...\n",
      "Write Complete\n"
     ]
    }
   ],
   "source": [
    "\n",
    "\n",
    "for state in states:\n",
    "    \n",
    "    #Initialize New DF for each run\n",
    "    buy_df = pd.DataFrame()\n",
    "    # Scrape for-sale listings and append to buy_df\n",
    "    buy_data = buy_scraper.scrape_state(state)\n",
    "    \n",
    "    if not buy_data.empty:\n",
    "        buy_df = pd.concat([buy_df, buy_data], ignore_index=True)\n",
    "    \n",
    "    buy_df = buy_df.replace(np.nan, None)\n",
    "    buy_df = buy_df.drop_duplicates(subset= \"property_id\")\n",
    "    records = buy_df.to_dict(orient='records')\n",
    "\n",
    "    print(f\"Scraped {len(buy_data)} for-sale listings for state {state}\")\n",
    "\n",
    "    geocoder = Geocoder(\n",
    "        buy_df, \n",
    "        latitude_col='latitude', \n",
    "        longitude_col='longitude'\n",
    "    )\n",
    "\n",
    "    df_geocoded = geocoder.geocode_all(\n",
    "        demographic_areas_path=r\"C:\\Users\\mattl\\OneDrive\\Documents\\reibrowser\\Database\\Areas\\census_block_group_source_nationwide\\v107\\blkgrp.gdb\",\n",
    "        cbsa_source_path=r\"C:\\Users\\mattl\\OneDrive\\Documents\\reibrowser\\Database\\Areas\\cbsa_source\\tl_2020_us_cbsa.shp\", \n",
    "        state_source_path=r\"C:\\Users\\mattl\\OneDrive\\Documents\\reibrowser\\Database\\Areas\\state_source\\States_shapefile.shp\"\n",
    "    )\n",
    "\n",
    "    # print(\"Writing...\")\n",
    "    # response = (\n",
    "    #     supabase.table(\"redfin_listings_bronze\")\n",
    "    #     .upsert(records, on_conflict=\"property_id\")\n",
    "    #     .execute()\n",
    "    # )\n",
    "\n",
    "    print(f\"Write Complete\")"
   ]
  },
  {
   "cell_type": "code",
   "execution_count": 3,
   "metadata": {},
   "outputs": [
    {
     "name": "stdout",
     "output_type": "stream",
     "text": [
      "hello\n"
     ]
    }
   ],
   "source": [
    "print('hello')"
   ]
  }
 ],
 "metadata": {
  "kernelspec": {
   "display_name": "base",
   "language": "python",
   "name": "python3"
  },
  "language_info": {
   "codemirror_mode": {
    "name": "ipython",
    "version": 3
   },
   "file_extension": ".py",
   "mimetype": "text/x-python",
   "name": "python",
   "nbconvert_exporter": "python",
   "pygments_lexer": "ipython3",
   "version": "3.11.5"
  }
 },
 "nbformat": 4,
 "nbformat_minor": 2
}
