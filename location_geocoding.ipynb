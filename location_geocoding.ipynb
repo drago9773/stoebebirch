{
 "cells": [
  {
   "cell_type": "code",
   "execution_count": 2,
   "metadata": {},
   "outputs": [],
   "source": [
    "import pandas as pd\n",
    "import geopandas as gpd"
   ]
  },
  {
   "cell_type": "code",
   "execution_count": 12,
   "metadata": {},
   "outputs": [],
   "source": [
    "dots_source = pd.read_csv(r\"C:\\Users\\mattl\\OneDrive\\Documents\\reibrowser\\Database\\Redfin Data\\washington_rentals.csv\")\n",
    "\n",
    "gdf = gpd.GeoDataFrame(\n",
    "    dots_source, geometry=gpd.points_from_xy(dots_source.Longitude, dots_source.Latitude), crs=\"EPSG:4326\"\n",
    ")"
   ]
  },
  {
   "cell_type": "code",
   "execution_count": 28,
   "metadata": {},
   "outputs": [],
   "source": [
    "demographic_areas = gpd.read_file(r\"C:\\Users\\mattl\\OneDrive\\Documents\\reibrowser\\Database\\Areas\\census_block_group_source\\tl_2023_53_bg.shp\")\n",
    "demographic_areas.to_crs(\"EPSG:4326\", inplace=True)\n",
    "demographic_areas = demographic_areas[[\"GEOID\", \"geometry\"]].rename(columns={\"GEOID\":\"cbg_geoid\"})\n",
    "\n",
    "cbsa_source = gpd.read_file(r\"C:\\Users\\mattl\\OneDrive\\Documents\\reibrowser\\Database\\Areas\\cbsa_source\\tl_2020_us_cbsa.shp\")\n",
    "cbsa_source.to_crs(\"EPSG:4326\", inplace=True)\n",
    "cbsa_source = cbsa_source[[\"GEOID\", \"NAME\", \"geometry\"]].rename(columns={\"GEOID\":\"cbsa_geoid\", \"NAME\": \"cbsa_name\"})\n",
    "\n",
    "state_source = gpd.read_file(r\"C:\\Users\\mattl\\OneDrive\\Documents\\reibrowser\\Database\\Areas\\state_source\\States_shapefile.shp\")\n",
    "state_source.to_crs(\"EPSG:4326\", inplace=True)\n",
    "state_source = state_source[[\"State_Code\", \"State_Name\", \"geometry\"]].rename(columns={\"State_Code\":\"state_code\", \"State_Name\": \"state_name\"})\n",
    "f"
   ]
  },
  {
   "cell_type": "code",
   "execution_count": 37,
   "metadata": {},
   "outputs": [
    {
     "ename": "ValueError",
     "evalue": "'index_left' and 'index_right' cannot be names in the frames being joined",
     "output_type": "error",
     "traceback": [
      "\u001b[1;31m---------------------------------------------------------------------------\u001b[0m",
      "\u001b[1;31mValueError\u001b[0m                                Traceback (most recent call last)",
      "Cell \u001b[1;32mIn[37], line 3\u001b[0m\n\u001b[0;32m      1\u001b[0m geocoded_dots \u001b[38;5;241m=\u001b[39m gdf\u001b[38;5;241m.\u001b[39msjoin(demographic_areas, how \u001b[38;5;241m=\u001b[39m \u001b[38;5;124m\"\u001b[39m\u001b[38;5;124mleft\u001b[39m\u001b[38;5;124m\"\u001b[39m)\n\u001b[0;32m      2\u001b[0m \u001b[38;5;66;03m# display(geocoded_dots)\u001b[39;00m\n\u001b[1;32m----> 3\u001b[0m geocoded_dots \u001b[38;5;241m=\u001b[39m geocoded_dots\u001b[38;5;241m.\u001b[39msjoin(cbsa_source, how \u001b[38;5;241m=\u001b[39m \u001b[38;5;124m'\u001b[39m\u001b[38;5;124mleft\u001b[39m\u001b[38;5;124m'\u001b[39m)\n",
      "File \u001b[1;32mc:\\Users\\mattl\\anaconda3\\Lib\\site-packages\\geopandas\\geodataframe.py:2195\u001b[0m, in \u001b[0;36mGeoDataFrame.sjoin\u001b[1;34m(self, df, *args, **kwargs)\u001b[0m\n\u001b[0;32m   2121\u001b[0m \u001b[38;5;28;01mdef\u001b[39;00m \u001b[38;5;21msjoin\u001b[39m(\u001b[38;5;28mself\u001b[39m, df, \u001b[38;5;241m*\u001b[39margs, \u001b[38;5;241m*\u001b[39m\u001b[38;5;241m*\u001b[39mkwargs):\n\u001b[0;32m   2122\u001b[0m \u001b[38;5;250m    \u001b[39m\u001b[38;5;124;03m\"\"\"Spatial join of two GeoDataFrames.\u001b[39;00m\n\u001b[0;32m   2123\u001b[0m \n\u001b[0;32m   2124\u001b[0m \u001b[38;5;124;03m    See the User Guide page :doc:`../../user_guide/mergingdata` for details.\u001b[39;00m\n\u001b[1;32m   (...)\u001b[0m\n\u001b[0;32m   2193\u001b[0m \u001b[38;5;124;03m    sjoin : equivalent top-level function\u001b[39;00m\n\u001b[0;32m   2194\u001b[0m \u001b[38;5;124;03m    \"\"\"\u001b[39;00m\n\u001b[1;32m-> 2195\u001b[0m     \u001b[38;5;28;01mreturn\u001b[39;00m geopandas\u001b[38;5;241m.\u001b[39msjoin(left_df\u001b[38;5;241m=\u001b[39m\u001b[38;5;28mself\u001b[39m, right_df\u001b[38;5;241m=\u001b[39mdf, \u001b[38;5;241m*\u001b[39margs, \u001b[38;5;241m*\u001b[39m\u001b[38;5;241m*\u001b[39mkwargs)\n",
      "File \u001b[1;32mc:\\Users\\mattl\\anaconda3\\Lib\\site-packages\\geopandas\\tools\\sjoin.py:119\u001b[0m, in \u001b[0;36msjoin\u001b[1;34m(left_df, right_df, how, predicate, lsuffix, rsuffix, **kwargs)\u001b[0m\n\u001b[0;32m    116\u001b[0m     first \u001b[38;5;241m=\u001b[39m \u001b[38;5;28mnext\u001b[39m(\u001b[38;5;28miter\u001b[39m(kwargs\u001b[38;5;241m.\u001b[39mkeys()))\n\u001b[0;32m    117\u001b[0m     \u001b[38;5;28;01mraise\u001b[39;00m \u001b[38;5;167;01mTypeError\u001b[39;00m(\u001b[38;5;124mf\u001b[39m\u001b[38;5;124m\"\u001b[39m\u001b[38;5;124msjoin() got an unexpected keyword argument \u001b[39m\u001b[38;5;124m'\u001b[39m\u001b[38;5;132;01m{\u001b[39;00mfirst\u001b[38;5;132;01m}\u001b[39;00m\u001b[38;5;124m'\u001b[39m\u001b[38;5;124m\"\u001b[39m)\n\u001b[1;32m--> 119\u001b[0m _basic_checks(left_df, right_df, how, lsuffix, rsuffix)\n\u001b[0;32m    121\u001b[0m indices \u001b[38;5;241m=\u001b[39m _geom_predicate_query(left_df, right_df, predicate)\n\u001b[0;32m    123\u001b[0m joined \u001b[38;5;241m=\u001b[39m _frame_join(indices, left_df, right_df, how, lsuffix, rsuffix)\n",
      "File \u001b[1;32mc:\\Users\\mattl\\anaconda3\\Lib\\site-packages\\geopandas\\tools\\sjoin.py:172\u001b[0m, in \u001b[0;36m_basic_checks\u001b[1;34m(left_df, right_df, how, lsuffix, rsuffix)\u001b[0m\n\u001b[0;32m    168\u001b[0m \u001b[38;5;66;03m# due to GH 352\u001b[39;00m\n\u001b[0;32m    169\u001b[0m \u001b[38;5;28;01mif\u001b[39;00m \u001b[38;5;28many\u001b[39m(left_df\u001b[38;5;241m.\u001b[39mcolumns\u001b[38;5;241m.\u001b[39misin([index_left, index_right])) \u001b[38;5;129;01mor\u001b[39;00m \u001b[38;5;28many\u001b[39m(\n\u001b[0;32m    170\u001b[0m     right_df\u001b[38;5;241m.\u001b[39mcolumns\u001b[38;5;241m.\u001b[39misin([index_left, index_right])\n\u001b[0;32m    171\u001b[0m ):\n\u001b[1;32m--> 172\u001b[0m     \u001b[38;5;28;01mraise\u001b[39;00m \u001b[38;5;167;01mValueError\u001b[39;00m(\n\u001b[0;32m    173\u001b[0m         \u001b[38;5;124m\"\u001b[39m\u001b[38;5;124m'\u001b[39m\u001b[38;5;132;01m{0}\u001b[39;00m\u001b[38;5;124m'\u001b[39m\u001b[38;5;124m and \u001b[39m\u001b[38;5;124m'\u001b[39m\u001b[38;5;132;01m{1}\u001b[39;00m\u001b[38;5;124m'\u001b[39m\u001b[38;5;124m cannot be names in the frames being\u001b[39m\u001b[38;5;124m\"\u001b[39m\n\u001b[0;32m    174\u001b[0m         \u001b[38;5;124m\"\u001b[39m\u001b[38;5;124m joined\u001b[39m\u001b[38;5;124m\"\u001b[39m\u001b[38;5;241m.\u001b[39mformat(index_left, index_right)\n\u001b[0;32m    175\u001b[0m     )\n",
      "\u001b[1;31mValueError\u001b[0m: 'index_left' and 'index_right' cannot be names in the frames being joined"
     ]
    }
   ],
   "source": [
    "geocoded_dots = gdf.sjoin(demographic_areas, how = \"left\")\n",
    "# display(geocoded_dots)\n",
    "geocoded_dots = geocoded_dots.sjoin(cbsa_source, how = 'left').reset\n",
    "# geocoded_dots = geocoded_dots.sjoin(state_source, how = 'left')\n",
    "\n",
    "# display(geocoded_dots)"
   ]
  }
 ],
 "metadata": {
  "kernelspec": {
   "display_name": "base",
   "language": "python",
   "name": "python3"
  },
  "language_info": {
   "codemirror_mode": {
    "name": "ipython",
    "version": 3
   },
   "file_extension": ".py",
   "mimetype": "text/x-python",
   "name": "python",
   "nbconvert_exporter": "python",
   "pygments_lexer": "ipython3",
   "version": "3.11.5"
  }
 },
 "nbformat": 4,
 "nbformat_minor": 2
}
