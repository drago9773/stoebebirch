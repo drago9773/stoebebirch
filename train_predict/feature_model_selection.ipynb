{
 "cells": [
  {
   "cell_type": "code",
   "execution_count": 6,
   "metadata": {},
   "outputs": [],
   "source": [
    "import numpy as np\n",
    "import pandas as pd\n",
    "import glob\n",
    "import os\n",
    "from sklearn.neighbors import KNeighborsRegressor\n",
    "from sklearn.model_selection import train_test_split\n",
    "from sklearn.metrics import r2_score, mean_absolute_error, median_absolute_error\n",
    "import seaborn as sns\n",
    "import matplotlib.pyplot as plt\n",
    "from sklearn.preprocessing import OneHotEncoder, PolynomialFeatures, MinMaxScaler\n",
    "from sklearn.linear_model import Ridge, Lasso\n",
    "from sklearn.model_selection import cross_val_score, cross_val_predict\n",
    "from sklearn.feature_selection import RFECV\n",
    "import json\n"
   ]
  },
  {
   "cell_type": "code",
   "execution_count": 7,
   "metadata": {},
   "outputs": [],
   "source": [
    "with open('utils.py') as f:\n",
    "    exec(f.read())\n"
   ]
  },
  {
   "cell_type": "markdown",
   "metadata": {},
   "source": [
    "# Setup"
   ]
  },
  {
   "cell_type": "code",
   "execution_count": 8,
   "metadata": {},
   "outputs": [],
   "source": [
    "median_income_data_source = r\"C:\\Users\\mattl\\OneDrive\\Documents\\reibrowser\\Database\\Rent Training Data\\ACSDT5Y2022.B19013-Data.csv\"\n",
    "\n",
    "training_data_source = r\"C:\\Users\\mattl\\OneDrive\\Documents\\reibrowser\\Database\\Redfin Data\\rentals_0926.csv\""
   ]
  },
  {
   "cell_type": "code",
   "execution_count": 9,
   "metadata": {},
   "outputs": [],
   "source": [
    "df = pd.read_csv(training_data_source)\n",
    "\n",
    "df = df.rename(columns={\n",
    "    # 'Max Square Feet': 'square_feet',\n",
    "    # 'Max Beds': 'bedrooms',\n",
    "    # 'Max Baths': 'bathrooms',\n",
    "    'price': 'rent',\n",
    "    'Latitude': 'latitude',\n",
    "    'Longitude': 'longitude'\n",
    "})\n",
    "\n",
    "basic_metadata = [\"property_id\", \"address\", \"city\", \"state\"]\n",
    "basic_features = [\"square_feet\", \"bedrooms\", \"bathrooms\"]\n",
    "target = \"rent\"\n",
    "\n",
    "\n",
    "for feature in basic_features + [target, \"latitude\", \"longitude\"]:\n",
    "    df[feature] = pd.to_numeric(df[feature], errors='coerce')\n",
    "\n",
    "\n",
    "df = df[(df[\"bedrooms\"] > 0 ) \n",
    "        & (df[\"bedrooms\"] < 6)  \n",
    "        & (df[\"bathrooms\"] < 4)  \n",
    "        & (df[\"square_feet\"] < 5000)  \n",
    "        & (df[\"rent\"] < 10000)  \n",
    "        & (df[\"state_code\"].notna()) \n",
    "        & (df[\"property_type\"] == \"6\") \n",
    "    ]"
   ]
  },
  {
   "cell_type": "markdown",
   "metadata": {},
   "source": [
    "\n",
    "# Get Median Income"
   ]
  },
  {
   "cell_type": "code",
   "execution_count": 10,
   "metadata": {},
   "outputs": [],
   "source": [
    "cbg_geoid_col = 'cbg_geoid'  # Replace with the actual column name\n",
    "\n",
    "df = get_median_income_data(df, cbg_geoid_col, median_income_data_source)\n",
    "\n",
    "df = fill_null(df, columns_to_fill=['median_income'], method='median', groupby='state')"
   ]
  },
  {
   "cell_type": "markdown",
   "metadata": {},
   "source": [
    "# Feature Engineering"
   ]
  },
  {
   "cell_type": "code",
   "execution_count": 11,
   "metadata": {},
   "outputs": [],
   "source": [
    "clean_initial_df = df.dropna(subset=basic_features)"
   ]
  },
  {
   "cell_type": "markdown",
   "metadata": {},
   "source": [
    "## One Hot Encoding"
   ]
  },
  {
   "cell_type": "code",
   "execution_count": 12,
   "metadata": {},
   "outputs": [
    {
     "name": "stdout",
     "output_type": "stream",
     "text": [
      "Encoded features: ['bedrooms_2.0', 'bedrooms_3.0', 'bedrooms_4.0', 'bedrooms_5.0', 'bathrooms_1.0', 'bathrooms_1.5', 'bathrooms_2.0', 'bathrooms_2.5', 'bathrooms_3.0', 'bathrooms_3.5']\n"
     ]
    }
   ],
   "source": [
    "columns_to_encode = ['bedrooms', 'bathrooms']\n",
    "\n",
    "# Apply one-hot encoding to the specified columns\n",
    "df, one_hot_features = one_hot_encode_features(clean_initial_df, columns_to_encode, drop_first=True)\n",
    "\n",
    "print(\"Encoded features:\", one_hot_features)"
   ]
  },
  {
   "cell_type": "markdown",
   "metadata": {},
   "source": [
    "## Rent Benchmark with KNN"
   ]
  },
  {
   "cell_type": "code",
   "execution_count": 13,
   "metadata": {},
   "outputs": [
    {
     "name": "stdout",
     "output_type": "stream",
     "text": [
      "Benchmark features created: ['Rent_Benchmark_1_neighbors', 'Rent_Benchmark_5_neighbors', 'Rent_Benchmark_10_neighbors']\n"
     ]
    }
   ],
   "source": [
    "knn_features = [\"latitude\", \"longitude\"]\n",
    "target = 'rent'\n",
    "n_values = [1, 5, 10]\n",
    "save_location = r'C:\\Users\\mattl\\OneDrive\\Desktop\\Projects\\stoebebirch\\Models'\n",
    "\n",
    "# Apply the KNN benchmark function\n",
    "df, benchmark_features = create_knn_benchmark_rent(df, knn_features, target, n_values, save_location)\n",
    "\n",
    "print(\"Benchmark features created:\", benchmark_features)"
   ]
  },
  {
   "cell_type": "code",
   "execution_count": 21,
   "metadata": {},
   "outputs": [
    {
     "data": {
      "text/html": [
       "<div>\n",
       "<style scoped>\n",
       "    .dataframe tbody tr th:only-of-type {\n",
       "        vertical-align: middle;\n",
       "    }\n",
       "\n",
       "    .dataframe tbody tr th {\n",
       "        vertical-align: top;\n",
       "    }\n",
       "\n",
       "    .dataframe thead th {\n",
       "        text-align: right;\n",
       "    }\n",
       "</style>\n",
       "<table border=\"1\" class=\"dataframe\">\n",
       "  <thead>\n",
       "    <tr style=\"text-align: right;\">\n",
       "      <th></th>\n",
       "      <th>Rent_Benchmark_1_neighbors</th>\n",
       "      <th>rent</th>\n",
       "    </tr>\n",
       "  </thead>\n",
       "  <tbody>\n",
       "    <tr>\n",
       "      <th>0</th>\n",
       "      <td>2000.0</td>\n",
       "      <td>2000.0</td>\n",
       "    </tr>\n",
       "    <tr>\n",
       "      <th>1</th>\n",
       "      <td>2000.0</td>\n",
       "      <td>2700.0</td>\n",
       "    </tr>\n",
       "    <tr>\n",
       "      <th>2</th>\n",
       "      <td>2000.0</td>\n",
       "      <td>2000.0</td>\n",
       "    </tr>\n",
       "    <tr>\n",
       "      <th>3</th>\n",
       "      <td>2000.0</td>\n",
       "      <td>2700.0</td>\n",
       "    </tr>\n",
       "    <tr>\n",
       "      <th>4</th>\n",
       "      <td>2995.0</td>\n",
       "      <td>2995.0</td>\n",
       "    </tr>\n",
       "    <tr>\n",
       "      <th>...</th>\n",
       "      <td>...</td>\n",
       "      <td>...</td>\n",
       "    </tr>\n",
       "    <tr>\n",
       "      <th>12849</th>\n",
       "      <td>1045.0</td>\n",
       "      <td>1045.0</td>\n",
       "    </tr>\n",
       "    <tr>\n",
       "      <th>12850</th>\n",
       "      <td>1379.0</td>\n",
       "      <td>1379.0</td>\n",
       "    </tr>\n",
       "    <tr>\n",
       "      <th>12851</th>\n",
       "      <td>1650.0</td>\n",
       "      <td>1650.0</td>\n",
       "    </tr>\n",
       "    <tr>\n",
       "      <th>12852</th>\n",
       "      <td>1550.0</td>\n",
       "      <td>1550.0</td>\n",
       "    </tr>\n",
       "    <tr>\n",
       "      <th>12853</th>\n",
       "      <td>900.0</td>\n",
       "      <td>900.0</td>\n",
       "    </tr>\n",
       "  </tbody>\n",
       "</table>\n",
       "<p>12854 rows × 2 columns</p>\n",
       "</div>"
      ],
      "text/plain": [
       "       Rent_Benchmark_1_neighbors    rent\n",
       "0                          2000.0  2000.0\n",
       "1                          2000.0  2700.0\n",
       "2                          2000.0  2000.0\n",
       "3                          2000.0  2700.0\n",
       "4                          2995.0  2995.0\n",
       "...                           ...     ...\n",
       "12849                      1045.0  1045.0\n",
       "12850                      1379.0  1379.0\n",
       "12851                      1650.0  1650.0\n",
       "12852                      1550.0  1550.0\n",
       "12853                       900.0   900.0\n",
       "\n",
       "[12854 rows x 2 columns]"
      ]
     },
     "metadata": {},
     "output_type": "display_data"
    },
    {
     "name": "stdout",
     "output_type": "stream",
     "text": [
      "The percentage of time 'Rent_Benchmark_1_neighbors' and 'rent' are equal is 93.55%\n"
     ]
    }
   ],
   "source": [
    "display(df[[\"Rent_Benchmark_1_neighbors\", \"rent\"]])\n",
    "\n",
    "# Calculate the percentage of time the two columns are equal\n",
    "equal_percentage = (df[\"Rent_Benchmark_1_neighbors\"] == df[\"rent\"]).mean() * 100\n",
    "\n",
    "# Display the result\n",
    "print(f\"The percentage of time 'Rent_Benchmark_1_neighbors' and 'rent' are equal is {equal_percentage:.2f}%\")\n"
   ]
  },
  {
   "cell_type": "markdown",
   "metadata": {},
   "source": [
    "## Scaling & Polynominal"
   ]
  },
  {
   "cell_type": "code",
   "execution_count": 14,
   "metadata": {},
   "outputs": [],
   "source": [
    "potential_features = [\"median_income\"] + basic_features + one_hot_features + benchmark_features"
   ]
  },
  {
   "cell_type": "code",
   "execution_count": 15,
   "metadata": {},
   "outputs": [
    {
     "name": "stdout",
     "output_type": "stream",
     "text": [
      "X_Train.shape: (10283, 17)\n",
      "X_Train_poly.shape: (10283, 170)\n"
     ]
    }
   ],
   "source": [
    "# Split your data first\n",
    "X_train, X_test, y_train, y_test = train_test_split(df[potential_features], df[target], train_size=0.8, random_state=27)\n",
    "\n",
    "# Scale the training data\n",
    "X_train_scaled, scaler = scale_features(X_train, mode='train')\n",
    "\n",
    "# Generate polynomial features for the training data\n",
    "X_train_poly, poly = generate_polynomial_features(X_train_scaled, original_feature_names=potential_features, mode='train', degree=2)\n",
    "\n",
    "# Optionally, you can scale and transform the test data for evaluation purposes\n",
    "X_test_scaled = scale_features(X_test, mode='predict')\n",
    "X_test_poly = generate_polynomial_features(X_test_scaled, original_feature_names=potential_features, mode='predict', degree=2)\n",
    "\n",
    "\n",
    "print(\"X_Train.shape: {}\".format(X_train_scaled.shape))\n",
    "print(\"X_Train_poly.shape: {}\".format(X_train_poly.shape))"
   ]
  },
  {
   "cell_type": "markdown",
   "metadata": {},
   "source": [
    "# Feature Selection"
   ]
  },
  {
   "cell_type": "code",
   "execution_count": 32,
   "metadata": {},
   "outputs": [
    {
     "name": "stdout",
     "output_type": "stream",
     "text": [
      "Optimal number of features: 72\n",
      "Selected features: ['square_feet', 'bedrooms', 'bedrooms_3', 'bedrooms_4', 'bedrooms_5', 'bathrooms_1.0', 'Rent_Benchmark_1_neighbors', 'Rent_Benchmark_5_neighbors', 'Rent_Benchmark_10_neighbors', 'median_income^2', 'median_income bedrooms', 'median_income bathrooms', 'median_income bedrooms_2', 'median_income bathrooms_1.0', 'median_income bathrooms_1.5', 'median_income Rent_Benchmark_1_neighbors', 'median_income Rent_Benchmark_5_neighbors', 'square_feet bedrooms', 'square_feet bedrooms_2', 'square_feet bedrooms_3', 'square_feet bedrooms_4', 'square_feet bedrooms_5', 'square_feet bathrooms_1.0', 'square_feet bathrooms_1.5', 'square_feet Rent_Benchmark_1_neighbors', 'square_feet Rent_Benchmark_5_neighbors', 'square_feet Rent_Benchmark_10_neighbors', 'bedrooms^2', 'bedrooms Rent_Benchmark_1_neighbors', 'bedrooms Rent_Benchmark_5_neighbors', 'bedrooms Rent_Benchmark_10_neighbors', 'bathrooms bedrooms_2', 'bathrooms Rent_Benchmark_1_neighbors', 'bathrooms Rent_Benchmark_5_neighbors', 'bathrooms Rent_Benchmark_10_neighbors', 'bedrooms_2 bathrooms_1.5', 'bedrooms_2 bathrooms_3.0', 'bedrooms_2 Rent_Benchmark_1_neighbors', 'bedrooms_2 Rent_Benchmark_5_neighbors', 'bedrooms_3^2', 'bedrooms_3 bathrooms_1.0', 'bedrooms_3 Rent_Benchmark_1_neighbors', 'bedrooms_3 Rent_Benchmark_5_neighbors', 'bedrooms_3 Rent_Benchmark_10_neighbors', 'bedrooms_4^2', 'bedrooms_4 bathrooms_1.0', 'bedrooms_4 Rent_Benchmark_1_neighbors', 'bedrooms_4 Rent_Benchmark_10_neighbors', 'bedrooms_5 bathrooms_1.0', 'bedrooms_5 Rent_Benchmark_1_neighbors', 'bedrooms_5 Rent_Benchmark_10_neighbors', 'bathrooms_1.0^2', 'bathrooms_1.0 Rent_Benchmark_1_neighbors', 'bathrooms_1.0 Rent_Benchmark_5_neighbors', 'bathrooms_1.0 Rent_Benchmark_10_neighbors', 'bathrooms_1.5 Rent_Benchmark_1_neighbors', 'bathrooms_1.5 Rent_Benchmark_5_neighbors', 'bathrooms_1.5 Rent_Benchmark_10_neighbors', 'bathrooms_2.0 Rent_Benchmark_1_neighbors', 'bathrooms_2.0 Rent_Benchmark_10_neighbors', 'bathrooms_2.5 Rent_Benchmark_1_neighbors', 'bathrooms_2.5 Rent_Benchmark_10_neighbors', 'bathrooms_3.0 Rent_Benchmark_1_neighbors', 'bathrooms_3.0 Rent_Benchmark_5_neighbors', 'bathrooms_3.0 Rent_Benchmark_10_neighbors', 'bathrooms_3.5 Rent_Benchmark_1_neighbors', 'bathrooms_3.5 Rent_Benchmark_5_neighbors', 'Rent_Benchmark_1_neighbors^2', 'Rent_Benchmark_1_neighbors Rent_Benchmark_5_neighbors', 'Rent_Benchmark_1_neighbors Rent_Benchmark_10_neighbors', 'Rent_Benchmark_5_neighbors^2', 'Rent_Benchmark_10_neighbors^2']\n"
     ]
    }
   ],
   "source": [
    "ridge = Ridge()\n",
    "rfecv = RFECV(estimator=ridge, step=1, cv=5, scoring='r2')\n",
    "rfecv.fit(X_train_poly, y_train)\n",
    "\n",
    "\n",
    "print(\"Optimal number of features: %d\" % rfecv.n_features_)\n",
    "selected_features_mask = rfecv.support_\n",
    "feature_names = poly.get_feature_names_out(potential_features)\n",
    "selected_features = [feature for feature, selected in zip(feature_names, selected_features_mask) if selected]\n",
    "\n",
    "print(\"Selected features:\", selected_features)\n",
    "\n",
    "# Save the selected features to a file\n",
    "with open('selected_features.json', 'w') as f:\n",
    "    json.dump(selected_features, f)"
   ]
  },
  {
   "cell_type": "code",
   "execution_count": 33,
   "metadata": {},
   "outputs": [
    {
     "name": "stdout",
     "output_type": "stream",
     "text": [
      "Ridge: Mean R^2 = 0.9747, Std = 0.0039\n",
      "Lasso: Mean R^2 = 0.9711, Std = 0.0050\n"
     ]
    },
    {
     "data": {
      "image/png": "[encoded data removed]",
      "text/plain": [
       "<Figure size 1000x600 with 1 Axes>"
      ]
     },
     "metadata": {},
     "output_type": "display_data"
    },
    {
     "name": "stdout",
     "output_type": "stream",
     "text": [
      "Best Model: Ridge\n",
      "Test MAE: 40.9419\n",
      "Test R^2: 0.9758\n"
     ]
    }
   ],
   "source": [
    "# Load the selected features\n",
    "with open('selected_features.json', 'r') as f:\n",
    "    selected_features = json.load(f)\n",
    "\n",
    "#Scale features and Generate Polynominals\n",
    "X = scale_features(df[potential_features], mode='predict')\n",
    "X, poly = generate_polynomial_features(X, original_feature_names= potential_features, mode='predict', degree=2)\n",
    "\n",
    "#Create Train and Test Sets\n",
    "X = pd.DataFrame(X, columns=poly)\n",
    "X = X[selected_features]\n",
    "y = df[target]\n",
    "X_train_val, X_test, y_train_val, y_test = train_test_split(X, y, train_size=0.8, random_state=27)\n",
    "X_train, X_val, y_train, y_val = train_test_split(X_train_val, y_train_val, train_size=0.8, random_state=27)\n",
    "\n",
    "\n",
    "#Select Model\n",
    "models = {\n",
    "    'Ridge': Ridge(),\n",
    "    'Lasso': Lasso(),\n",
    "}\n",
    "\n",
    "results = {}\n",
    "\n",
    "\n",
    "for model_name, model in models.items(): \n",
    "    scores = cross_val_score(model, X_train, y_train, scoring='r2', cv=5)\n",
    "    results[model_name] = scores\n",
    "    print(f\"{model_name}: Mean R^2 = {scores.mean():.4f}, Std = {scores.std():.4f}\")\n",
    "\n",
    "results_df = pd.DataFrame(results)\n",
    "plt.figure(figsize=(10, 6))\n",
    "results_df.boxplot()\n",
    "plt.title('Model Comparison using Cross-Validation')\n",
    "plt.ylabel('R^2 Score')\n",
    "plt.show()\n",
    "\n",
    "# Optionally, train the best model on the combined training and validation set and evaluate on the test set\n",
    "best_model_name = max(results, key=lambda k: results[k].mean())\n",
    "best_model = models[best_model_name]\n",
    "best_model.fit(X_train_val, y_train_val)\n",
    "\n",
    "# Evaluate on the test set\n",
    "y_test_pred = best_model.predict(X_test)\n",
    "test_mae = mean_absolute_error(y_test, y_test_pred)\n",
    "test_r2 = r2_score(y_test, y_test_pred)\n",
    "\n",
    "print(f\"Best Model: {best_model_name}\")\n",
    "print(f\"Test MAE: {test_mae:.4f}\")\n",
    "print(f\"Test R^2: {test_r2:.4f}\")\n"
   ]
  }
 ],
 "metadata": {
  "kernelspec": {
   "display_name": "base",
   "language": "python",
   "name": "python3"
  },
  "language_info": {
   "codemirror_mode": {
    "name": "ipython",
    "version": 3
   },
   "file_extension": ".py",
   "mimetype": "text/x-python",
   "name": "python",
   "nbconvert_exporter": "python",
   "pygments_lexer": "ipython3",
   "version": "3.11.5"
  }
 },
 "nbformat": 4,
 "nbformat_minor": 2
}
