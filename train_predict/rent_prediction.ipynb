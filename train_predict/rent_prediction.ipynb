{
 "cells": [
  {
   "cell_type": "code",
   "execution_count": 56,
   "metadata": {},
   "outputs": [],
   "source": [
    "import pandas as pd\n",
    "import seaborn as sns\n",
    "import matplotlib.pyplot as plt\n",
    "import json\n",
    "\n",
    "#Loat Utils\n",
    "with open('utils.py') as f:\n",
    "    exec(f.read())\n",
    "\n",
    "# Load the selected features\n",
    "with open('selected_features.json', 'r') as f:\n",
    "    selected_features = json.load(f)\n"
   ]
  },
  {
   "cell_type": "code",
   "execution_count": 57,
   "metadata": {},
   "outputs": [
    {
     "name": "stderr",
     "output_type": "stream",
     "text": [
      "C:\\Users\\mattl\\AppData\\Local\\Temp\\ipykernel_1168\\1654194531.py:2: DtypeWarning: Columns (14) have mixed types. Specify dtype option on import or set low_memory=False.\n",
      "  df = pd.read_csv(r\"C:\\Users\\mattl\\OneDrive\\Documents\\reibrowser\\Database\\Redfin Data\\for_sale_homes.csv\", index_col=False)\n"
     ]
    }
   ],
   "source": [
    "\n",
    "# Load new data\n",
    "df = pd.read_csv(r\"C:\\Users\\mattl\\OneDrive\\Documents\\reibrowser\\Database\\Redfin Data\\for_sale_homes.csv\", index_col=False)\n",
    "\n",
    "# Initial Filtering\n",
    "df = df[(df[\"Bedrooms\"] >= 1) \n",
    "        & (df[\"Bedrooms\"] < 6)  \n",
    "        & (df[\"Bathrooms\"] < 4)\n",
    "        & (df[\"Bathrooms\"] >= 1)  \n",
    "        & (df[\"Square Feet\"] < 5000)    \n",
    "        & (df[\"State\"].notna())]\n",
    "\n",
    "# Convert Bedrooms to string and clean up\n",
    "df[\"Bedrooms\"] = df[\"Bedrooms\"].astype(str).str.split('.').str[0].astype(int)\n",
    "\n",
    "#Convert bathrooms to .5 increments\n",
    "df['Bathrooms'] = df['Bathrooms'].round(1)\n",
    "df['Bathrooms'] = (df['Bathrooms'] * 2).round() / 2  # Ensures rounding to nearest 0.5\n",
    "\n",
    "\n",
    "basic_features = [\"Square Feet\", \"Bedrooms\", \"Bathrooms\"]\n",
    "basic_metadata = ['MLS ID', 'Status', 'Price', 'HOA Fee', 'Lot Size', \n",
    "       'Location', 'Stories', 'Address', 'City', 'State', 'ZIP Code',\n",
    "       'Year Built', 'URL', 'Latitude', 'Longitude', 'updated_date']\n"
   ]
  },
  {
   "cell_type": "code",
   "execution_count": 58,
   "metadata": {},
   "outputs": [],
   "source": [
    "# Add the median income data\n",
    "df = get_median_income_data(df, 'cbg_geoid', r\"C:\\Users\\mattl\\OneDrive\\Documents\\reibrowser\\Database\\Rent Training Data\\ACSDT5Y2022.B19013-Data.csv\")\n",
    "df = fill_null(df, columns_to_fill=['median_income'], method='median', groupby='State')\n",
    "\n",
    "# Filter out rows where the state is not in the trained states\n",
    "states_trained = pd.read_csv(r\"C:\\Users\\mattl\\OneDrive\\Documents\\reibrowser\\Database\\Redfin Data\\rentals.csv\")\n",
    "states = states_trained[\"State_Code\"].unique()\n",
    "df = df[df[\"State_Code\"].isin(states)]\n"
   ]
  },
  {
   "cell_type": "code",
   "execution_count": 59,
   "metadata": {},
   "outputs": [],
   "source": [
    "\n",
    "# Generate Rent Benchmarks using KNN models\n",
    "knn_features = [\"Latitude\", \"Longitude\"]\n",
    "n_values = [1, 5, 10]\n",
    "save_location = r'C:\\Users\\mattl\\OneDrive\\Desktop\\Projects\\stoebebirch\\Models'\n",
    "df, benchmark_features = create_knn_benchmark_rent(df, knn_features, target='Rent', n_values=n_values, save_location=save_location, mode='predict')"
   ]
  },
  {
   "cell_type": "code",
   "execution_count": 60,
   "metadata": {},
   "outputs": [],
   "source": [
    "\n",
    "# One-Hot Encode Bedrooms and Bathrooms in 'predict' mode\n",
    "columns_to_encode = ['Bedrooms', 'Bathrooms']\n",
    "df, one_hot_features = one_hot_encode_features(\n",
    "    df, \n",
    "    columns_to_encode, \n",
    "    mode='predict', \n",
    "    drop_first=True, \n",
    "    encoder_filename=r'C:\\Users\\mattl\\OneDrive\\Desktop\\Projects\\stoebebirch\\Models\\one_hot_encoder.pkl', \n",
    "    feature_names_filename=r'.\\encoded_feature_names.json'\n",
    ")"
   ]
  },
  {
   "cell_type": "code",
   "execution_count": 61,
   "metadata": {},
   "outputs": [],
   "source": [
    "\n",
    "\n",
    "# Combine features\n",
    "potential_features = [\"median_income\"] +basic_features +one_hot_features  + benchmark_features\n",
    "\n",
    "df = df.dropna(subset=potential_features)\n",
    "\n",
    "# Scale the features using the saved scaler\n",
    "X = scale_features(df[potential_features], mode='predict', scaler_filename=r'C:\\Users\\mattl\\OneDrive\\Desktop\\Projects\\stoebebirch\\Models\\scaler.pkl')\n",
    "\n",
    "# Generate polynomial features using the saved polynomial transformer\n",
    "X, poly_feature_names = generate_polynomial_features(X, potential_features, mode='predict', poly_filename=r'C:\\Users\\mattl\\OneDrive\\Desktop\\Projects\\stoebebirch\\Models\\poly_transformer.pkl', degree=2)"
   ]
  },
  {
   "cell_type": "code",
   "execution_count": 62,
   "metadata": {},
   "outputs": [],
   "source": [
    "# Select the features that were identified during the training step\n",
    "with open(r\"./selected_features.json\", 'r') as f:\n",
    "    selected_features = json.load(f)\n",
    "\n",
    "\n",
    "X = pd.DataFrame(X, columns=poly_feature_names)\n",
    "X_selected = X[selected_features]\n",
    "\n",
    "# Load the trained model\n",
    "model = joblib.load(r'C:\\Users\\mattl\\OneDrive\\Desktop\\Projects\\stoebebirch\\Models\\single_family_rent_predictor.joblib')\n",
    "\n",
    "# Predict rent using the selected features\n",
    "df['predicted_rent'] = model.predict(X_selected)"
   ]
  },
  {
   "cell_type": "code",
   "execution_count": 63,
   "metadata": {},
   "outputs": [],
   "source": [
    "\n",
    "df_to_write = df[basic_metadata + basic_features + [\"median_income\", \"predicted_rent\"]]\n",
    "\n",
    "# Optionally, save the predictions to a file\n",
    "df_to_write.to_csv(r'.\\nationwide_predicted_rent_clean.csv', index=False)"
   ]
  }
 ],
 "metadata": {
  "kernelspec": {
   "display_name": "base",
   "language": "python",
   "name": "python3"
  },
  "language_info": {
   "codemirror_mode": {
    "name": "ipython",
    "version": 3
   },
   "file_extension": ".py",
   "mimetype": "text/x-python",
   "name": "python",
   "nbconvert_exporter": "python",
   "pygments_lexer": "ipython3",
   "version": "3.11.5"
  }
 },
 "nbformat": 4,
 "nbformat_minor": 2
}
