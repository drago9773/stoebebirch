{
 "cells": [
  {
   "cell_type": "code",
   "execution_count": 1,
   "metadata": {},
   "outputs": [],
   "source": [
    "import numpy as np\n",
    "import pandas as pd\n",
    "import glob\n",
    "import os\n",
    "from sklearn.neighbors import KNeighborsRegressor\n",
    "from sklearn.linear_model import LinearRegression\n",
    "from sklearn.model_selection import train_test_split\n",
    "from sklearn.metrics import r2_score, mean_absolute_error\n",
    "import seaborn as sns\n",
    "import matplotlib.pyplot as plt"
   ]
  },
  {
   "cell_type": "markdown",
   "metadata": {},
   "source": [
    "# Benchmarks I Want to Define\n",
    "- KNN Rent\n",
    "- KNN Rent by Beds\n",
    "- KNN Rent by Baths\n",
    "- KNN Rent by Bed x Bath\n",
    "- CBSA Average Rent\n",
    "- CBSA Average Rent by Beds\n",
    "- CBSA Average Rent by Baths\n",
    "- CBSA Average Rent by Bed x Bath\n",
    "- State Average Rent\n",
    "- State Average Rent by Beds\n",
    "- State Average Rent by Baths\n",
    "- State Average Rent by Bed x Bath"
   ]
  }
 ],
 "metadata": {
  "kernelspec": {
   "display_name": "base",
   "language": "python",
   "name": "python3"
  },
  "language_info": {
   "codemirror_mode": {
    "name": "ipython",
    "version": 3
   },
   "file_extension": ".py",
   "mimetype": "text/x-python",
   "name": "python",
   "nbconvert_exporter": "python",
   "pygments_lexer": "ipython3",
   "version": "3.11.5"
  }
 },
 "nbformat": 4,
 "nbformat_minor": 2
}
